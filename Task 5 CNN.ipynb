{
 "cells": [
  {
   "cell_type": "code",
   "execution_count": 1,
   "metadata": {},
   "outputs": [
    {
     "name": "stderr",
     "output_type": "stream",
     "text": [
      "Using TensorFlow backend.\n"
     ]
    }
   ],
   "source": [
    "import keras"
   ]
  },
  {
   "cell_type": "code",
   "execution_count": 2,
   "metadata": {},
   "outputs": [
    {
     "name": "stdout",
     "output_type": "stream",
     "text": [
      "[name: \"/device:CPU:0\"\n",
      "device_type: \"CPU\"\n",
      "memory_limit: 268435456\n",
      "locality {\n",
      "}\n",
      "incarnation: 7532764276207151123\n",
      "]\n"
     ]
    }
   ],
   "source": [
    "from tensorflow.python.client import device_lib\n",
    "\n",
    "print(device_lib.list_local_devices())"
   ]
  },
  {
   "cell_type": "code",
   "execution_count": 3,
   "metadata": {},
   "outputs": [],
   "source": [
    "import numpy as np\n",
    "import pandas as pd\n",
    "from collections import defaultdict\n",
    "import re\n",
    "import string\n",
    "from bs4 import BeautifulSoup\n",
    "\n",
    "import sys\n",
    "import os\n",
    "\n",
    "from keras.preprocessing.text import Tokenizer\n",
    "from keras.preprocessing.sequence import pad_sequences\n",
    "from keras.utils.np_utils import to_categorical\n",
    "\n",
    "from keras.layers import Embedding\n",
    "from keras.layers import Dense, Input, Flatten\n",
    "from keras.layers import Conv1D, MaxPooling1D, Embedding, merge, Dropout\n",
    "from keras.models import Model\n",
    "from string import punctuation\n",
    "\n",
    "MAX_SEQUENCE_LENGTH = 1000\n",
    "MAX_NB_WORDS = 200000\n",
    "EMBEDDING_DIM = 100\n",
    "VALIDATION_SPLIT = 0.2\n"
   ]
  },
  {
   "cell_type": "code",
   "execution_count": 4,
   "metadata": {},
   "outputs": [],
   "source": [
    "def clean_str(tweet):\n",
    "    \"\"\"\n",
    "    Cleaning of dataset\n",
    "    \"\"\"\n",
    "    tweet = re.sub(r\"\\\\\", \"\", tweet)    \n",
    "    tweet = re.sub(r\"\\'\", \"\", tweet)    \n",
    "    tweet = re.sub(r\"\\\"\", \"\", tweet)\n",
    "    tweet = re.sub(r'\\&\\w*;', '', tweet)\n",
    "    tweet = re.sub('@[^\\s]+','',tweet)\n",
    "    tweet = re.sub(r'\\$\\w*', '', tweet)\n",
    "    tweet = re.sub(r'https?:\\/\\/.*\\/\\w*', '', tweet)\n",
    "    tweet = re.sub(r'#\\w*', '', tweet)\n",
    "    tweet = re.sub(r'[' + punctuation.replace('@', '') + ']+', ' ', tweet)\n",
    "    tweet = re.sub(r'\\b\\w{1,2}\\b', '', tweet)\n",
    "    tweet = re.sub(r'\\s\\s+', ' ', tweet)\n",
    "    tweet = re.sub(r'˜¥\\w*','', tweet)\n",
    "    tweet = re.sub(r'˜€\\w*','', tweet)\n",
    "    tweet = re.sub(r'˜¤\\w*','', tweet)\n",
    "    tweet = re.sub(r'˜ªðÿ\\w*','', tweet)\n",
    "    tweet = re.sub(r'ðÿ™\\w*','', tweet)\n",
    "    tweet = re.sub(r'\\\\\\w*','', tweet)\n",
    "    tweet = re.sub(r'±\\w*','', tweet)\n",
    "    tweet = re.sub(r'\\w*','', tweet)\n",
    "    tweet = re.sub(r'™„˜­\\w*','', tweet)\n",
    "    tweet = re.sub(r'ðÿ§€\\w*','', tweet)\n",
    "    tweet = re.sub(r'‘šðÿ¼\\w*','', tweet)\n",
    "    tweet = re.sub(r'ðÿ•\\w*','', tweet)\n",
    "    tweet = re.sub(r'€¢\\w*','', tweet)\n",
    "    tweet = re.sub(r'ã©\\w*','', tweet) \n",
    "    tweet = re.sub(r'\\w*','',tweet)\n",
    "    #tweet = re.sub(r'ðŸ\\x8\\w','',tweet)\n",
    "    return tweet.strip().lower()"
   ]
  },
  {
   "cell_type": "code",
   "execution_count": 5,
   "metadata": {},
   "outputs": [
    {
     "data": {
      "text/html": [
       "<div>\n",
       "<style scoped>\n",
       "    .dataframe tbody tr th:only-of-type {\n",
       "        vertical-align: middle;\n",
       "    }\n",
       "\n",
       "    .dataframe tbody tr th {\n",
       "        vertical-align: top;\n",
       "    }\n",
       "\n",
       "    .dataframe thead th {\n",
       "        text-align: right;\n",
       "    }\n",
       "</style>\n",
       "<table border=\"1\" class=\"dataframe\">\n",
       "  <thead>\n",
       "    <tr style=\"text-align: right;\">\n",
       "      <th></th>\n",
       "      <th>ID</th>\n",
       "      <th>Tweet</th>\n",
       "      <th>anger</th>\n",
       "      <th>anticipation</th>\n",
       "      <th>disgust</th>\n",
       "      <th>fear</th>\n",
       "      <th>joy</th>\n",
       "      <th>love</th>\n",
       "      <th>optimism</th>\n",
       "      <th>pessimism</th>\n",
       "      <th>sadness</th>\n",
       "      <th>surprise</th>\n",
       "      <th>trust</th>\n",
       "    </tr>\n",
       "  </thead>\n",
       "  <tbody>\n",
       "    <tr>\n",
       "      <th>0</th>\n",
       "      <td>2017-En-21441</td>\n",
       "      <td>â€œWorry is a down payment on a problem you ma...</td>\n",
       "      <td>0</td>\n",
       "      <td>1</td>\n",
       "      <td>0</td>\n",
       "      <td>0</td>\n",
       "      <td>0</td>\n",
       "      <td>0</td>\n",
       "      <td>1</td>\n",
       "      <td>0</td>\n",
       "      <td>0</td>\n",
       "      <td>0</td>\n",
       "      <td>1</td>\n",
       "    </tr>\n",
       "    <tr>\n",
       "      <th>1</th>\n",
       "      <td>2017-En-31535</td>\n",
       "      <td>Whatever you decide to do make sure it makes y...</td>\n",
       "      <td>0</td>\n",
       "      <td>0</td>\n",
       "      <td>0</td>\n",
       "      <td>0</td>\n",
       "      <td>1</td>\n",
       "      <td>1</td>\n",
       "      <td>1</td>\n",
       "      <td>0</td>\n",
       "      <td>0</td>\n",
       "      <td>0</td>\n",
       "      <td>0</td>\n",
       "    </tr>\n",
       "    <tr>\n",
       "      <th>2</th>\n",
       "      <td>2017-En-21068</td>\n",
       "      <td>@Max_Kellerman  it also helps that the majorit...</td>\n",
       "      <td>1</td>\n",
       "      <td>0</td>\n",
       "      <td>1</td>\n",
       "      <td>0</td>\n",
       "      <td>1</td>\n",
       "      <td>0</td>\n",
       "      <td>1</td>\n",
       "      <td>0</td>\n",
       "      <td>0</td>\n",
       "      <td>0</td>\n",
       "      <td>0</td>\n",
       "    </tr>\n",
       "    <tr>\n",
       "      <th>3</th>\n",
       "      <td>2017-En-31436</td>\n",
       "      <td>Accept the challenges so that you can literall...</td>\n",
       "      <td>0</td>\n",
       "      <td>0</td>\n",
       "      <td>0</td>\n",
       "      <td>0</td>\n",
       "      <td>1</td>\n",
       "      <td>0</td>\n",
       "      <td>1</td>\n",
       "      <td>0</td>\n",
       "      <td>0</td>\n",
       "      <td>0</td>\n",
       "      <td>0</td>\n",
       "    </tr>\n",
       "    <tr>\n",
       "      <th>4</th>\n",
       "      <td>2017-En-22195</td>\n",
       "      <td>My roommate: it's okay that we can't spell bec...</td>\n",
       "      <td>1</td>\n",
       "      <td>0</td>\n",
       "      <td>1</td>\n",
       "      <td>0</td>\n",
       "      <td>0</td>\n",
       "      <td>0</td>\n",
       "      <td>0</td>\n",
       "      <td>0</td>\n",
       "      <td>0</td>\n",
       "      <td>0</td>\n",
       "      <td>0</td>\n",
       "    </tr>\n",
       "  </tbody>\n",
       "</table>\n",
       "</div>"
      ],
      "text/plain": [
       "              ID                                              Tweet  anger  \\\n",
       "0  2017-En-21441  â€œWorry is a down payment on a problem you ma...      0   \n",
       "1  2017-En-31535  Whatever you decide to do make sure it makes y...      0   \n",
       "2  2017-En-21068  @Max_Kellerman  it also helps that the majorit...      1   \n",
       "3  2017-En-31436  Accept the challenges so that you can literall...      0   \n",
       "4  2017-En-22195  My roommate: it's okay that we can't spell bec...      1   \n",
       "\n",
       "   anticipation  disgust  fear  joy  love  optimism  pessimism  sadness  \\\n",
       "0             1        0     0    0     0         1          0        0   \n",
       "1             0        0     0    1     1         1          0        0   \n",
       "2             0        1     0    1     0         1          0        0   \n",
       "3             0        0     0    1     0         1          0        0   \n",
       "4             0        1     0    0     0         0          0        0   \n",
       "\n",
       "   surprise  trust  \n",
       "0         0      1  \n",
       "1         0      0  \n",
       "2         0      0  \n",
       "3         0      0  \n",
       "4         0      0  "
      ]
     },
     "execution_count": 5,
     "metadata": {},
     "output_type": "execute_result"
    }
   ],
   "source": [
    "data_train = pd.read_excel(r'C:\\Users\\kushal\\Desktop\\bennet dataset\\Task 5 data\\2018-E-c-En-train\\2018-E-c-En-train.xlsx')\n",
    "\n",
    "#data_train[\"label\"] = data_train[\"Intensity Class\"].apply(lambda x : x.split(\":\")[0])\n",
    "#data_train = data_train[\"Tweet\"].apply(clean_str)\n",
    "data_train.head()"
   ]
  },
  {
   "cell_type": "code",
   "execution_count": 6,
   "metadata": {},
   "outputs": [
    {
     "name": "stdout",
     "output_type": "stream",
     "text": [
      "Index(['ID', 'Tweet', 'anger', 'anticipation', 'disgust', 'fear', 'joy',\n",
      "       'love', 'optimism', 'pessimism', 'sadness', 'surprise', 'trust',\n",
      "       'Text'],\n",
      "      dtype='object')\n",
      "What the raw input data looks like:\n",
      "              ID                                              Tweet  anger  \\\n",
      "0  2017-En-21441  â€œWorry is a down payment on a problem you ma...      0   \n",
      "1  2017-En-31535  Whatever you decide to do make sure it makes y...      0   \n",
      "2  2017-En-21068  @Max_Kellerman  it also helps that the majorit...      1   \n",
      "3  2017-En-31436  Accept the challenges so that you can literall...      0   \n",
      "4  2017-En-22195  My roommate: it's okay that we can't spell bec...      1   \n",
      "\n",
      "   anticipation  disgust  fear  joy  love  optimism  pessimism  sadness  \\\n",
      "0             1        0     0    0     0         1          0        0   \n",
      "1             0        0     0    1     1         1          0        0   \n",
      "2             0        1     0    1     0         1          0        0   \n",
      "3             0        0     0    1     0         1          0        0   \n",
      "4             0        1     0    0     0         0          0        0   \n",
      "\n",
      "   surprise  trust                                               Text  \n",
      "0         0      1  €œworry down payment problem you may never hav...  \n",
      "1         0      0            whatever you decide make sure makes you  \n",
      "2         0      0  also helps that the majority nfl coaching inep...  \n",
      "3         0      0  accept the challenges that you can literally e...  \n",
      "4         0      0  roommate its okay that cant spell because have...  \n",
      "Found 11194 unique tokens.\n"
     ]
    }
   ],
   "source": [
    "# Input Data preprocessing\n",
    "data_train = pd.read_excel(r'C:\\Users\\kushal\\Desktop\\bennet dataset\\Task 5 data\\2018-E-c-En-train\\2018-E-c-En-train.xlsx')\n",
    "#data_train[\"label\"] = data_train[\"Intensity Class\"].apply(lambda x : x.split(\":\")[0])\n",
    "data_train[\"Text\"] = data_train[\"Tweet\"].apply(clean_str)\n",
    "#data_train['label'] = data_train['label'].replace('FAKE',1)\n",
    "#data_train['label'] = data_train['label'].replace('REAL',0)\n",
    "print(data_train.columns)\n",
    "print('What the raw input data looks like:')\n",
    "print(data_train[0:5])\n",
    "texts = []\n",
    "#labels = []\n",
    "\n",
    "for i in range(data_train.Text.shape[0]):\n",
    "    #text1 = data_train.Tweet[i]\n",
    "    text2 = data_train.Text[i]\n",
    "    #text = str(text1) +\"\"+ str(text2)\n",
    "    texts.append(text2)\n",
    "    #labels.append(data_train.label[i])\n",
    "    \n",
    "tokenizer = Tokenizer(num_words=MAX_NB_WORDS)\n",
    "tokenizer.fit_on_texts(texts)\n",
    "sequences = tokenizer.texts_to_sequences(texts)\n",
    "\n",
    "word_index = tokenizer.word_index\n",
    "print('Found %s unique tokens.' % len(word_index))\n"
   ]
  },
  {
   "cell_type": "code",
   "execution_count": 7,
   "metadata": {},
   "outputs": [
    {
     "name": "stdout",
     "output_type": "stream",
     "text": [
      "Shape of data tensor: (6838, 1000)\n"
     ]
    }
   ],
   "source": [
    "# Pad input sequences\n",
    "data = pad_sequences(sequences, maxlen=MAX_SEQUENCE_LENGTH)\n",
    "#labels = to_categorical(np.asarray(labels),num_classes = 0)\n",
    "print('Shape of data tensor:', data.shape)\n",
    "#print('Shape of label tensor:', labels.shape)"
   ]
  },
  {
   "cell_type": "code",
   "execution_count": 24,
   "metadata": {},
   "outputs": [],
   "source": [
    "labels=  data_train[['anger', 'anticipation', 'disgust', 'fear', 'joy',\n",
    "       'love', 'optimism', 'pessimism', 'sadness', 'surprise', 'trust']]"
   ]
  },
  {
   "cell_type": "code",
   "execution_count": 25,
   "metadata": {},
   "outputs": [
    {
     "name": "stdout",
     "output_type": "stream",
     "text": [
      "Size of train, validation, test: 5470 3419 3419\n",
      "real & fake news in train,valt,test: \n",
      "anger           2037\n",
      "anticipation     778\n",
      "disgust         2086\n",
      "fear             959\n",
      "joy             1970\n",
      "love             564\n",
      "optimism        1584\n",
      "pessimism        629\n",
      "sadness         1584\n",
      "surprise         285\n",
      "trust            286\n",
      "dtype: int64\n",
      "anger           1241\n",
      "anticipation     490\n",
      "disgust         1273\n",
      "fear             664\n",
      "joy             1245\n",
      "love             350\n",
      "optimism         981\n",
      "pessimism        401\n",
      "sadness         1028\n",
      "surprise         188\n",
      "trust            170\n",
      "dtype: int64\n",
      "anger           1303\n",
      "anticipation     488\n",
      "disgust         1329\n",
      "fear             578\n",
      "joy             1232\n",
      "love             350\n",
      "optimism        1003\n",
      "pessimism        394\n",
      "sadness          980\n",
      "surprise         173\n",
      "trust            187\n",
      "dtype: int64\n"
     ]
    }
   ],
   "source": [
    "# Train test validation Split\n",
    "from sklearn.model_selection import train_test_split\n",
    "\n",
    "indices = np.arange(data.shape[0])\n",
    "np.random.shuffle(indices)\n",
    "data = data[indices]\n",
    "#labels = labels[indices]\n",
    "x_train, x_test, y_train, y_test = train_test_split( data, labels, test_size=0.20, random_state=42)\n",
    "x_test, x_val, y_test, y_val = train_test_split( data, labels, test_size=0.50, random_state=42)\n",
    "print('Size of train, validation, test:', len(y_train), len(y_val), len(y_test))\n",
    "\n",
    "print('real & fake news in train,valt,test: ')\n",
    "print(y_train.sum(axis=0))\n",
    "print(y_val.sum(axis=0))\n",
    "print(y_test.sum(axis=0))"
   ]
  },
  {
   "cell_type": "code",
   "execution_count": 26,
   "metadata": {},
   "outputs": [
    {
     "name": "stderr",
     "output_type": "stream",
     "text": [
      "WARNING: Logging before flag parsing goes to stderr.\n",
      "W0715 12:41:52.920358 16088 deprecation_wrapper.py:119] From C:\\Users\\kushal\\Anaconda3\\lib\\site-packages\\keras\\backend\\tensorflow_backend.py:74: The name tf.get_default_graph is deprecated. Please use tf.compat.v1.get_default_graph instead.\n",
      "\n"
     ]
    },
    {
     "name": "stdout",
     "output_type": "stream",
     "text": [
      "Total 400000 word vectors in Glove.\n"
     ]
    }
   ],
   "source": [
    "#Using Pre-trained word embeddings \n",
    "GLOVE_DIR = \"data\" \n",
    "embeddings_index = {}\n",
    "f = open(os.path.join(GLOVE_DIR, r'C:\\Users\\kushal\\Desktop\\bennet dataset\\glove6b100dtxt\\glove.6B.100d.txt'), encoding=\"utf8\")\n",
    "for line in f:\n",
    "    values = line.split()\n",
    "    #print(values[1:])\n",
    "    word = values[0]\n",
    "    coefs = np.asarray(values[1:], dtype='float32')\n",
    "    embeddings_index[word] = coefs\n",
    "f.close()\n",
    "\n",
    "print('Total %s word vectors in Glove.' % len(embeddings_index))\n",
    "\n",
    "embedding_matrix = np.random.random((len(word_index) + 1, EMBEDDING_DIM))\n",
    "for word, i in word_index.items():\n",
    "    embedding_vector = embeddings_index.get(word)\n",
    "    if embedding_vector is not None:\n",
    "        # words not found in embedding index will be all-zeros.\n",
    "        embedding_matrix[i] = embedding_vector\n",
    "        \n",
    "embedding_layer = Embedding(len(word_index) + 1,\n",
    "                            EMBEDDING_DIM,\n",
    "                            weights=[embedding_matrix],\n",
    "                            input_length=MAX_SEQUENCE_LENGTH)\n"
   ]
  },
  {
   "cell_type": "code",
   "execution_count": 28,
   "metadata": {},
   "outputs": [
    {
     "name": "stderr",
     "output_type": "stream",
     "text": [
      "W0715 13:18:47.571278 16088 deprecation.py:323] From C:\\Users\\kushal\\AppData\\Roaming\\Python\\Python37\\site-packages\\tensorflow\\python\\ops\\math_grad.py:1250: add_dispatch_support.<locals>.wrapper (from tensorflow.python.ops.array_ops) is deprecated and will be removed in a future version.\n",
      "Instructions for updating:\n",
      "Use tf.where in 2.0, which has the same broadcast rule as np.where\n"
     ]
    },
    {
     "name": "stdout",
     "output_type": "stream",
     "text": [
      "Fitting the simple convolutional neural network model\n",
      "_________________________________________________________________\n",
      "Layer (type)                 Output Shape              Param #   \n",
      "=================================================================\n",
      "input_2 (InputLayer)         (None, 1000)              0         \n",
      "_________________________________________________________________\n",
      "embedding_1 (Embedding)      (None, 1000, 100)         1119500   \n",
      "_________________________________________________________________\n",
      "conv1d_4 (Conv1D)            (None, 996, 128)          64128     \n",
      "_________________________________________________________________\n",
      "max_pooling1d_4 (MaxPooling1 (None, 199, 128)          0         \n",
      "_________________________________________________________________\n",
      "conv1d_5 (Conv1D)            (None, 195, 128)          82048     \n",
      "_________________________________________________________________\n",
      "max_pooling1d_5 (MaxPooling1 (None, 39, 128)           0         \n",
      "_________________________________________________________________\n",
      "conv1d_6 (Conv1D)            (None, 35, 128)           82048     \n",
      "_________________________________________________________________\n",
      "max_pooling1d_6 (MaxPooling1 (None, 1, 128)            0         \n",
      "_________________________________________________________________\n",
      "flatten_2 (Flatten)          (None, 128)               0         \n",
      "_________________________________________________________________\n",
      "dense_3 (Dense)              (None, 128)               16512     \n",
      "_________________________________________________________________\n",
      "dense_4 (Dense)              (None, 11)                1419      \n",
      "=================================================================\n",
      "Total params: 1,365,655\n",
      "Trainable params: 1,365,655\n",
      "Non-trainable params: 0\n",
      "_________________________________________________________________\n",
      "Train on 5470 samples, validate on 3419 samples\n",
      "Epoch 1/20\n",
      "5470/5470 [==============================] - 30s 5ms/step - loss: 5.2374 - acc: 0.2080 - val_loss: 5.2270 - val_acc: 0.0679\n",
      "Epoch 2/20\n",
      "5470/5470 [==============================] - 31s 6ms/step - loss: 5.1896 - acc: 0.2069 - val_loss: 5.2973 - val_acc: 0.3902\n",
      "Epoch 3/20\n",
      "5470/5470 [==============================] - 32s 6ms/step - loss: 5.1949 - acc: 0.2216 - val_loss: 5.2764 - val_acc: 0.2229\n",
      "Epoch 4/20\n",
      "5470/5470 [==============================] - 33s 6ms/step - loss: 5.1828 - acc: 0.1923 - val_loss: 5.2249 - val_acc: 0.2106\n",
      "Epoch 5/20\n",
      "5470/5470 [==============================] - 32s 6ms/step - loss: 5.1839 - acc: 0.2303 - val_loss: 5.2316 - val_acc: 0.2466\n",
      "Epoch 6/20\n",
      "5470/5470 [==============================] - 36s 7ms/step - loss: 5.1856 - acc: 0.2037 - val_loss: 5.2233 - val_acc: 0.0673\n",
      "Epoch 7/20\n",
      "5470/5470 [==============================] - 37s 7ms/step - loss: 5.1794 - acc: 0.1898 - val_loss: 5.2299 - val_acc: 0.1448\n",
      "Epoch 8/20\n",
      "5470/5470 [==============================] - 36s 7ms/step - loss: 5.1630 - acc: 0.2095 - val_loss: 5.2345 - val_acc: 0.2937\n",
      "Epoch 9/20\n",
      "5470/5470 [==============================] - 36s 7ms/step - loss: 5.1531 - acc: 0.2225 - val_loss: 5.1918 - val_acc: 0.2012\n",
      "Epoch 10/20\n",
      "5470/5470 [==============================] - 35s 6ms/step - loss: 5.1518 - acc: 0.2391 - val_loss: 5.2161 - val_acc: 0.2413\n",
      "Epoch 11/20\n",
      "5470/5470 [==============================] - 35s 6ms/step - loss: 5.1227 - acc: 0.2399 - val_loss: 5.1799 - val_acc: 0.0740\n",
      "Epoch 12/20\n",
      "5470/5470 [==============================] - 35s 6ms/step - loss: 5.0911 - acc: 0.2250 - val_loss: 5.1501 - val_acc: 0.3106\n",
      "Epoch 13/20\n",
      "5470/5470 [==============================] - 34s 6ms/step - loss: 5.0645 - acc: 0.2442 - val_loss: 5.1202 - val_acc: 0.2284\n",
      "Epoch 14/20\n",
      "5470/5470 [==============================] - 35s 6ms/step - loss: 5.0002 - acc: 0.2316 - val_loss: 5.0904 - val_acc: 0.3674\n",
      "Epoch 15/20\n",
      "5470/5470 [==============================] - 34s 6ms/step - loss: 4.9174 - acc: 0.2943 - val_loss: 5.0494 - val_acc: 0.2305\n",
      "Epoch 16/20\n",
      "5470/5470 [==============================] - 34s 6ms/step - loss: 4.8278 - acc: 0.2874 - val_loss: 5.1171 - val_acc: 0.2986\n",
      "Epoch 17/20\n",
      "5470/5470 [==============================] - 34s 6ms/step - loss: 4.7143 - acc: 0.3016 - val_loss: 5.1980 - val_acc: 0.3416\n",
      "Epoch 18/20\n",
      "5470/5470 [==============================] - 34s 6ms/step - loss: 4.6107 - acc: 0.3216 - val_loss: 4.9012 - val_acc: 0.3586\n",
      "Epoch 19/20\n",
      "5470/5470 [==============================] - 34s 6ms/step - loss: 4.4658 - acc: 0.3399 - val_loss: 4.9228 - val_acc: 0.3346\n",
      "Epoch 20/20\n",
      "5470/5470 [==============================] - 34s 6ms/step - loss: 4.3586 - acc: 0.3616 - val_loss: 4.9371 - val_acc: 0.3349\n"
     ]
    }
   ],
   "source": [
    "# Simple CNN model\n",
    "sequence_input = Input(shape=(MAX_SEQUENCE_LENGTH,), dtype='int32')\n",
    "embedded_sequences = embedding_layer(sequence_input)\n",
    "l_cov1= Conv1D(128, 5, activation='relu')(embedded_sequences)\n",
    "l_pool1 = MaxPooling1D(5)(l_cov1)\n",
    "l_cov2 = Conv1D(128, 5, activation='relu')(l_pool1)\n",
    "l_pool2 = MaxPooling1D(5)(l_cov2)\n",
    "l_cov3 = Conv1D(128, 5, activation='relu')(l_pool2)\n",
    "l_pool3 = MaxPooling1D(35)(l_cov3)  # global max pooling\n",
    "l_flat = Flatten()(l_pool3)\n",
    "l_dense = Dense(128, activation='relu')(l_flat)\n",
    "preds = Dense(11, activation='softmax')(l_dense)\n",
    "\n",
    "model = Model(sequence_input, preds)\n",
    "model.compile(loss='categorical_crossentropy',\n",
    "              optimizer='adadelta',\n",
    "              metrics=['acc'])\n",
    "\n",
    "print(\"Fitting the simple convolutional neural network model\")\n",
    "model.summary()\n",
    "history = model.fit(x_train, y_train, validation_data=(x_val, y_val),\n",
    "          epochs=20, batch_size=128)\n"
   ]
  },
  {
   "cell_type": "code",
   "execution_count": 29,
   "metadata": {},
   "outputs": [
    {
     "name": "stdout",
     "output_type": "stream",
     "text": [
      "dict_keys(['val_loss', 'val_acc', 'loss', 'acc'])\n"
     ]
    },
    {
     "data": {
      "image/png": "[encoded data removed]",
      "text/plain": [
       "<Figure size 432x288 with 1 Axes>"
      ]
     },
     "metadata": {
      "needs_background": "light"
     },
     "output_type": "display_data"
    },
    {
     "data": {
      "image/png": "[encoded data removed]",
      "text/plain": [
       "<Figure size 432x288 with 1 Axes>"
      ]
     },
     "metadata": {
      "needs_background": "light"
     },
     "output_type": "display_data"
    }
   ],
   "source": [
    "import matplotlib.pyplot as plt\n",
    "%matplotlib inline \n",
    "# list all data in history\n",
    "print(history.history.keys())\n",
    "# summarize history for accuracy\n",
    "plt.plot(history.history['acc'])\n",
    "plt.plot(history.history['val_acc'])\n",
    "plt.title('model accuracy')\n",
    "plt.ylabel('accuracy')\n",
    "plt.xlabel('epoch')\n",
    "plt.legend(['train', 'test'], loc='upper left')\n",
    "plt.show()\n",
    "# summarize history for loss\n",
    "plt.plot(history.history['loss'])\n",
    "plt.plot(history.history['val_loss'])\n",
    "plt.title('model loss')\n",
    "plt.ylabel('loss')\n",
    "plt.xlabel('epoch')\n",
    "plt.legend(['train', 'test'], loc='upper left')\n",
    "plt.show()"
   ]
  },
  {
   "cell_type": "code",
   "execution_count": 41,
   "metadata": {
    "scrolled": true
   },
   "outputs": [
    {
     "name": "stderr",
     "output_type": "stream",
     "text": [
      "C:\\Users\\kushal\\Anaconda3\\lib\\site-packages\\ipykernel_launcher.py:4: FutureWarning: Method .as_matrix will be removed in a future version. Use .values instead.\n",
      "  after removing the cwd from sys.path.\n"
     ]
    },
    {
     "name": "stdout",
     "output_type": "stream",
     "text": [
      "Correct predictions: 2135.0\n",
      "Total number of test examples: 3419\n",
      "Accuracy of model1:  0.624451594033343\n"
     ]
    },
    {
     "name": "stderr",
     "output_type": "stream",
     "text": [
      "C:\\Users\\kushal\\Anaconda3\\lib\\site-packages\\ipykernel_launcher.py:14: FutureWarning: Method .as_matrix will be removed in a future version. Use .values instead.\n",
      "  \n"
     ]
    },
    {
     "data": {
      "text/plain": [
       "Text(0.5, 0, 'predicted label')"
      ]
     },
     "execution_count": 41,
     "metadata": {},
     "output_type": "execute_result"
    },
    {
     "data": {
      "image/png": "[encoded data removed]",
      "text/plain": [
       "<Figure size 288x288 with 2 Axes>"
      ]
     },
     "metadata": {
      "needs_background": "light"
     },
     "output_type": "display_data"
    }
   ],
   "source": [
    "# Test model 1\n",
    "test_preds = model.predict(x_test)\n",
    "test_preds = np.round(test_preds)\n",
    "correct_predictions = float(sum(test_preds == y_test.as_matrix())[0])\n",
    "print(\"Correct predictions:\", correct_predictions)\n",
    "print(\"Total number of test examples:\", len(y_test))\n",
    "print(\"Accuracy of model1: \", correct_predictions/float(len(y_test)))\n",
    "\n",
    "# Creating the Confusion Matrix\n",
    "from sklearn.metrics import confusion_matrix\n",
    "x_pred = model.predict(x_test)\n",
    "x_pred = np.round(x_pred)\n",
    "x_pred = x_pred.argmax(1)\n",
    "y_test_s = y_test.as_matrix().argmax(1)\n",
    "cm = confusion_matrix(y_test_s, x_pred)\n",
    "plt.matshow(cm, cmap=plt.cm.binary, interpolation='nearest')\n",
    "plt.title('Confusion matrix - model1')\n",
    "plt.colorbar()\n",
    "plt.ylabel('expected label')\n",
    "plt.xlabel('predicted label')\n",
    "# plt.show()\n",
    "\n",
    "#Test model 2\n",
    "#test_preds2 = model2.predict(x_test)\n",
    "#test_preds2 = np.round(test_preds2)\n",
    "#correct_predictions = float(sum(test_preds2 == y_test)[0])\n",
    "#print(\"Correct predictions:\", correct_predictions)\n",
    "#print(\"Total number of test examples:\", len(y_test))\n",
    "#print(\"Accuracy of model2: \", correct_predictions/float(len(y_test)))\n",
    "\n",
    "# Creating the Confusion Matrix\n",
    "#x_pred = model2.predict(x_test)\n",
    "#x_pred = np.round(x_pred)\n",
    "#x_pred = x_pred.argmax(1)\n",
    "#y_test_s = y_test.argmax(1)\n",
    "#m = confusion_matrix(y_test_s, x_pred)\n",
    "#plt.matshow(cm, cmap=plt.cm.binary, interpolation='nearest',)\n",
    "#plt.title('Confusion matrix - model2')\n",
    "#plt.colorbar()\n",
    "#plt.ylabel('expected label')\n",
    "#plt.xlabel('predicted label')\n",
    "#plt.show()\n"
   ]
  },
  {
   "cell_type": "code",
   "execution_count": null,
   "metadata": {},
   "outputs": [],
   "source": []
  }
 ],
 "metadata": {
  "kernelspec": {
   "display_name": "Python 3",
   "language": "python",
   "name": "python3"
  },
  "language_info": {
   "codemirror_mode": {
    "name": "ipython",
    "version": 3
   },
   "file_extension": ".py",
   "mimetype": "text/x-python",
   "name": "python",
   "nbconvert_exporter": "python",
   "pygments_lexer": "ipython3",
   "version": "3.7.1"
  }
 },
 "nbformat": 4,
 "nbformat_minor": 2
}
