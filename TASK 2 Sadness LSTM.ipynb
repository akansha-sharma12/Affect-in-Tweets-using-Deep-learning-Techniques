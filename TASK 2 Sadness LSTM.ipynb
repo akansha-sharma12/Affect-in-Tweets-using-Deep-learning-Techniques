{
 "cells": [
  {
   "cell_type": "code",
   "execution_count": 12,
   "metadata": {},
   "outputs": [],
   "source": [
    "import keras"
   ]
  },
  {
   "cell_type": "code",
   "execution_count": 13,
   "metadata": {},
   "outputs": [
    {
     "name": "stdout",
     "output_type": "stream",
     "text": [
      "[name: \"/device:CPU:0\"\n",
      "device_type: \"CPU\"\n",
      "memory_limit: 268435456\n",
      "locality {\n",
      "}\n",
      "incarnation: 16120989852780186776\n",
      "]\n"
     ]
    }
   ],
   "source": [
    "from tensorflow.python.client import device_lib\n",
    "\n",
    "print(device_lib.list_local_devices())"
   ]
  },
  {
   "cell_type": "code",
   "execution_count": 14,
   "metadata": {},
   "outputs": [],
   "source": [
    "import numpy as np\n",
    "import pandas as pd\n",
    "from collections import defaultdict\n",
    "import re\n",
    "import string\n",
    "from bs4 import BeautifulSoup\n",
    "\n",
    "import sys\n",
    "import os\n",
    "\n",
    "from keras.preprocessing.text import Tokenizer\n",
    "from keras.preprocessing.sequence import pad_sequences\n",
    "from keras.utils.np_utils import to_categorical\n",
    "\n",
    "from keras.layers import Embedding\n",
    "from keras.layers import Dense, Input, Flatten\n",
    "from keras.layers import Conv1D, MaxPooling1D, Embedding, merge, Dropout\n",
    "from keras.models import Model\n",
    "from string import punctuation\n",
    "\n",
    "MAX_SEQUENCE_LENGTH = 1000\n",
    "MAX_NB_WORDS = 200000\n",
    "EMBEDDING_DIM = 100\n",
    "VALIDATION_SPLIT = 0.2"
   ]
  },
  {
   "cell_type": "code",
   "execution_count": 15,
   "metadata": {},
   "outputs": [],
   "source": [
    "def clean_str(tweet):\n",
    "    \"\"\"\n",
    "    Cleaning of dataset\n",
    "    \"\"\"\n",
    "    tweet = re.sub(r\"\\\\\", \"\", tweet)    \n",
    "    tweet = re.sub(r\"\\'\", \"\", tweet)    \n",
    "    tweet = re.sub(r\"\\\"\", \"\", tweet)\n",
    "    tweet = re.sub(r'\\&\\w*;', '', tweet)\n",
    "    tweet = re.sub('@[^\\s]+','',tweet)\n",
    "    tweet = re.sub(r'\\$\\w*', '', tweet)\n",
    "    tweet = re.sub(r'https?:\\/\\/.*\\/\\w*', '', tweet)\n",
    "    tweet = re.sub(r'#\\w*', '', tweet)\n",
    "    tweet = re.sub(r'[' + punctuation.replace('@', '') + ']+', ' ', tweet)\n",
    "    tweet = re.sub(r'\\b\\w{1,2}\\b', '', tweet)\n",
    "    tweet = re.sub(r'\\s\\s+', ' ', tweet)\n",
    "    tweet = re.sub(r'˜¥\\w*','', tweet)\n",
    "    tweet = re.sub(r'˜€\\w*','', tweet)\n",
    "    tweet = re.sub(r'˜¤\\w*','', tweet)\n",
    "    tweet = re.sub(r'˜ªðÿ\\w*','', tweet)\n",
    "    tweet = re.sub(r'ðÿ™\\w*','', tweet)\n",
    "    tweet = re.sub(r'\\\\\\w*','', tweet)\n",
    "    tweet = re.sub(r'±\\w*','', tweet)\n",
    "    tweet = re.sub(r'\\w*','', tweet)\n",
    "    tweet = re.sub(r'™„˜­\\w*','', tweet)\n",
    "    tweet = re.sub(r'ðÿ§€\\w*','', tweet)\n",
    "    tweet = re.sub(r'‘šðÿ¼\\w*','', tweet)\n",
    "    tweet = re.sub(r'ðÿ•\\w*','', tweet)\n",
    "    tweet = re.sub(r'€¢\\w*','', tweet)\n",
    "    tweet = re.sub(r'ã©\\w*','', tweet) \n",
    "    tweet = re.sub(r'\\w*','',tweet)\n",
    "    #tweet = re.sub(r'ðŸ\\x8\\w','',tweet)\n",
    "    return tweet.strip().lower()"
   ]
  },
  {
   "cell_type": "code",
   "execution_count": 16,
   "metadata": {},
   "outputs": [
    {
     "data": {
      "text/plain": [
       "0                   this the most depressing shit ever\n",
       "1    final vestiges 90s childhood were just dashed ...\n",
       "2    has had dreadful first half not mention rashfo...\n",
       "3                   feel really sad and down todayðÿ˜’\n",
       "4    wow just watched before you and was seriously ...\n",
       "Name: Tweet, dtype: object"
      ]
     },
     "execution_count": 16,
     "metadata": {},
     "output_type": "execute_result"
    }
   ],
   "source": [
    "data_train = pd.read_excel(r'C:\\Users\\kushal\\Desktop\\bennet dataset\\Task 2 data\\EI-oc-En-train\\EI-oc-En-sadness-train.xlsx')\n",
    "#data_train.head()\n",
    "data_train[\"label\"] = data_train[\"Intensity Class\"].apply(lambda x : x.split(\":\")[0])\n",
    "data_train = data_train[\"Tweet\"].apply(clean_str)\n",
    "data_train.head()"
   ]
  },
  {
   "cell_type": "code",
   "execution_count": 17,
   "metadata": {},
   "outputs": [
    {
     "name": "stdout",
     "output_type": "stream",
     "text": [
      "Index(['ID', 'Tweet', 'Affect Dimension', 'Intensity Class', 'label', 'Text'], dtype='object')\n",
      "What the raw input data looks like:\n",
      "              ID                                              Tweet  \\\n",
      "0  2017-En-40023                 This the most depressing shit ever   \n",
      "1  2017-En-40983  final vestiges of my 90's childhood were just ...   \n",
      "2  2017-En-20751  @ManUnitedWriter He has had a dreadful first h...   \n",
      "3  2017-En-41232                 feel really sad and down todayðŸ˜’   \n",
      "4  2017-En-40797  Wow just watched Me Before You and it was seri...   \n",
      "\n",
      "  Affect Dimension                                Intensity Class label  \\\n",
      "0          sadness      3: high amount of sadness can be inferred     3   \n",
      "1          sadness                  0: no sadness can be inferred     0   \n",
      "2          sadness       1: low amount of sadness can be inferred     1   \n",
      "3          sadness      3: high amount of sadness can be inferred     3   \n",
      "4          sadness  2: moderate amount of sadness can be inferred     2   \n",
      "\n",
      "                                                Text  \n",
      "0                 this the most depressing shit ever  \n",
      "1  final vestiges 90s childhood were just dashed ...  \n",
      "2  has had dreadful first half not mention rashfo...  \n",
      "3                 feel really sad and down todayðÿ˜’  \n",
      "4  wow just watched before you and was seriously ...  \n",
      "Found 4470 unique tokens.\n"
     ]
    }
   ],
   "source": [
    "# Input Data preprocessing\n",
    "data_train = pd.read_excel(r'C:\\Users\\kushal\\Desktop\\bennet dataset\\Task 2 data\\EI-oc-En-train\\EI-oc-En-sadness-train.xlsx')\n",
    "\n",
    "data_train[\"label\"] = data_train[\"Intensity Class\"].apply(lambda x : x.split(\":\")[0])\n",
    "data_train[\"Text\"] = data_train[\"Tweet\"].apply(clean_str)\n",
    "#data_train['label'] = data_train['label'].replace('FAKE',1)\n",
    "#data_train['label'] = data_train['label'].replace('REAL',0)\n",
    "print(data_train.columns)\n",
    "print('What the raw input data looks like:')\n",
    "print(data_train[0:5])\n",
    "texts = []\n",
    "labels = []\n",
    "\n",
    "for i in range(data_train.Text.shape[0]):\n",
    "    #text1 = data_train.Tweet[i]\n",
    "    text2 = data_train.Text[i]\n",
    "    #text = str(text1) +\"\"+ str(text2)\n",
    "    texts.append(text2)\n",
    "    labels.append(data_train.label[i])\n",
    "    \n",
    "tokenizer = Tokenizer(num_words=MAX_NB_WORDS)\n",
    "tokenizer.fit_on_texts(texts)\n",
    "sequences = tokenizer.texts_to_sequences(texts)\n",
    "\n",
    "word_index = tokenizer.word_index\n",
    "print('Found %s unique tokens.' % len(word_index))\n"
   ]
  },
  {
   "cell_type": "code",
   "execution_count": 18,
   "metadata": {},
   "outputs": [
    {
     "name": "stdout",
     "output_type": "stream",
     "text": [
      "Shape of data tensor: (1533, 1000)\n",
      "Shape of label tensor: (1533, 4)\n"
     ]
    }
   ],
   "source": [
    "# Pad input sequences\n",
    "data = pad_sequences(sequences, maxlen=MAX_SEQUENCE_LENGTH)\n",
    "labels = to_categorical(np.asarray(labels),num_classes = 0)\n",
    "print('Shape of data tensor:', data.shape)\n",
    "print('Shape of label tensor:', labels.shape)"
   ]
  },
  {
   "cell_type": "code",
   "execution_count": 19,
   "metadata": {},
   "outputs": [
    {
     "name": "stdout",
     "output_type": "stream",
     "text": [
      "Size of train, validation, test: 1226 154 153\n",
      "real & fake news in train,valt,test:\n",
      "[476. 202. 294. 254.]\n",
      "[62. 25. 36. 31.]\n",
      "[56. 33. 34. 30.]\n"
     ]
    }
   ],
   "source": [
    "# Train test validation Split\n",
    "from sklearn.model_selection import train_test_split\n",
    "\n",
    "indices = np.arange(data.shape[0])\n",
    "np.random.shuffle(indices)\n",
    "data = data[indices]\n",
    "labels = labels[indices]\n",
    "x_train, x_test, y_train, y_test = train_test_split( data, labels, test_size=0.20, random_state=42)\n",
    "x_test, x_val, y_test, y_val = train_test_split( x_test, y_test, test_size=0.50, random_state=42)\n",
    "print('Size of train, validation, test:', len(y_train), len(y_val), len(y_test))\n",
    "\n",
    "print('real & fake news in train,valt,test:')\n",
    "print(y_train.sum(axis=0))\n",
    "print(y_val.sum(axis=0))\n",
    "print(y_test.sum(axis=0))"
   ]
  },
  {
   "cell_type": "code",
   "execution_count": 20,
   "metadata": {},
   "outputs": [],
   "source": [
    "from keras.models import Sequential\n",
    "from keras.layers.convolutional import Conv3D\n",
    "from keras.layers.convolutional_recurrent import ConvLSTM2D\n",
    "from keras.layers.normalization import BatchNormalization\n",
    "import numpy as np\n",
    "from matplotlib import pyplot as plt\n",
    "from keras.layers import Dense, Embedding, LSTM, GRU\n",
    "\n",
    "%matplotlib inline"
   ]
  },
  {
   "cell_type": "code",
   "execution_count": 21,
   "metadata": {},
   "outputs": [
    {
     "name": "stdout",
     "output_type": "stream",
     "text": [
      "Total 400000 word vectors in Glove.\n"
     ]
    }
   ],
   "source": [
    "#Using Pre-trained word embeddings\n",
    "GLOVE_DIR = \"data\" \n",
    "embeddings_index = {}\n",
    "f = open(os.path.join(GLOVE_DIR, r'C:\\Users\\kushal\\Desktop\\bennet dataset\\glove6b100dtxt\\glove.6B.100d.txt'), encoding=\"utf8\")\n",
    "for line in f:\n",
    "    values = line.split()\n",
    "    #print(values[1:])\n",
    "    word = values[0]\n",
    "    coefs = np.asarray(values[1:], dtype='float32')\n",
    "    embeddings_index[word] = coefs\n",
    "f.close()\n",
    "\n",
    "print('Total %s word vectors in Glove.' % len(embeddings_index))\n",
    "\n",
    "embedding_matrix = np.random.random((len(word_index) + 1, EMBEDDING_DIM))\n",
    "for word, i in word_index.items():\n",
    "    embedding_vector = embeddings_index.get(word)\n",
    "    if embedding_vector is not None:\n",
    "        # words not found in embedding index will be all-zeros.\n",
    "        embedding_matrix[i] = embedding_vector\n",
    "        \n",
    "embedding_layer = Embedding(len(word_index) + 1,\n",
    "                            EMBEDDING_DIM,\n",
    "                            weights=[embedding_matrix],\n",
    "                            input_length=MAX_SEQUENCE_LENGTH)\n"
   ]
  },
  {
   "cell_type": "code",
   "execution_count": 22,
   "metadata": {},
   "outputs": [
    {
     "name": "stdout",
     "output_type": "stream",
     "text": [
      "_________________________________________________________________\n",
      "Layer (type)                 Output Shape              Param #   \n",
      "=================================================================\n",
      "embedding_2 (Embedding)      (None, 1000, 100)         447100    \n",
      "_________________________________________________________________\n",
      "dropout_2 (Dropout)          (None, 1000, 100)         0         \n",
      "_________________________________________________________________\n",
      "conv1d_3 (Conv1D)            (None, 1000, 32)          16032     \n",
      "_________________________________________________________________\n",
      "max_pooling1d_3 (MaxPooling1 (None, 500, 32)           0         \n",
      "_________________________________________________________________\n",
      "conv1d_4 (Conv1D)            (None, 500, 64)           6208      \n",
      "_________________________________________________________________\n",
      "max_pooling1d_4 (MaxPooling1 (None, 250, 64)           0         \n",
      "_________________________________________________________________\n",
      "lstm_2 (LSTM)                (None, 100)               66000     \n",
      "_________________________________________________________________\n",
      "batch_normalization_2 (Batch (None, 100)               400       \n",
      "_________________________________________________________________\n",
      "dense_5 (Dense)              (None, 256)               25856     \n",
      "_________________________________________________________________\n",
      "dense_6 (Dense)              (None, 128)               32896     \n",
      "_________________________________________________________________\n",
      "dense_7 (Dense)              (None, 64)                8256      \n",
      "_________________________________________________________________\n",
      "dense_8 (Dense)              (None, 4)                 260       \n",
      "=================================================================\n",
      "Total params: 603,008\n",
      "Trainable params: 602,808\n",
      "Non-trainable params: 200\n",
      "_________________________________________________________________\n",
      "None\n",
      "Epoch 1/10\n",
      "1226/1226 [==============================] - 10s 8ms/step - loss: 0.5598 - acc: 0.7431\n",
      "Epoch 2/10\n",
      "1226/1226 [==============================] - 11s 9ms/step - loss: 0.5492 - acc: 0.7449\n",
      "Epoch 3/10\n",
      "1226/1226 [==============================] - 11s 9ms/step - loss: 0.5418 - acc: 0.7502\n",
      "Epoch 4/10\n",
      "1226/1226 [==============================] - 11s 9ms/step - loss: 0.5410 - acc: 0.7492\n",
      "Epoch 5/10\n",
      "1226/1226 [==============================] - 11s 9ms/step - loss: 0.5349 - acc: 0.7504\n",
      "Epoch 6/10\n",
      "1226/1226 [==============================] - 11s 9ms/step - loss: 0.5232 - acc: 0.7594\n",
      "Epoch 7/10\n",
      "1226/1226 [==============================] - 11s 9ms/step - loss: 0.4965 - acc: 0.7728\n",
      "Epoch 8/10\n",
      "1226/1226 [==============================] - 11s 9ms/step - loss: 0.4798 - acc: 0.7851\n",
      "Epoch 9/10\n",
      "1226/1226 [==============================] - 11s 9ms/step - loss: 0.4407 - acc: 0.8046\n",
      "Epoch 10/10\n",
      "1226/1226 [==============================] - 11s 9ms/step - loss: 0.3954 - acc: 0.8232\n"
     ]
    }
   ],
   "source": [
    "embedding_vecor_length = 32\n",
    "modell = Sequential()\n",
    "modell.add(embedding_layer)\n",
    "modell.add(Dropout(0.2))\n",
    "modell.add(Conv1D(filters=32, kernel_size=5, padding='same', activation='relu'))\n",
    "modell.add(MaxPooling1D(pool_size=2))\n",
    "modell.add(Conv1D(filters=64, kernel_size=3, padding='same', activation='relu'))\n",
    "modell.add(MaxPooling1D(pool_size=2))\n",
    "modell.add(LSTM(100, dropout=0.2, recurrent_dropout=0.2))\n",
    "modell.add(BatchNormalization())\n",
    "modell.add(Dense(256, activation='relu'))\n",
    "modell.add(Dense(128, activation='relu'))\n",
    "modell.add(Dense(64, activation='relu'))\n",
    "modell.add(Dense(4, activation='softmax'))\n",
    "modell.compile(loss='binary_crossentropy', optimizer='adam', metrics=['accuracy'])\n",
    "print(modell.summary())\n",
    "modell.fit(x_train, y_train, epochs=10, batch_size=64)\n",
    "\n",
    "modell.save('lstm.h5')"
   ]
  },
  {
   "cell_type": "code",
   "execution_count": 23,
   "metadata": {},
   "outputs": [
    {
     "name": "stdout",
     "output_type": "stream",
     "text": [
      "_________________________________________________________________\n",
      "Layer (type)                 Output Shape              Param #   \n",
      "=================================================================\n",
      "embedding_2 (Embedding)      (None, 1000, 100)         447100    \n",
      "_________________________________________________________________\n",
      "gru_1 (GRU)                  (None, 100)               60300     \n",
      "_________________________________________________________________\n",
      "batch_normalization_3 (Batch (None, 100)               400       \n",
      "_________________________________________________________________\n",
      "dense_9 (Dense)              (None, 4)                 404       \n",
      "=================================================================\n",
      "Total params: 508,204\n",
      "Trainable params: 508,004\n",
      "Non-trainable params: 200\n",
      "_________________________________________________________________\n",
      "None\n",
      "Epoch 1/2\n",
      "1226/1226 [==============================] - 51s 42ms/step - loss: 0.6361 - acc: 0.7174\n",
      "Epoch 2/2\n",
      "1226/1226 [==============================] - 45s 37ms/step - loss: 0.5011 - acc: 0.7735\n"
     ]
    }
   ],
   "source": [
    "embedding_vecor_length = 32\n",
    "modelg = Sequential()\n",
    "modelg.add(embedding_layer)\n",
    "modelg.add(GRU(100, dropout=0.2, recurrent_dropout=0.2))\n",
    "###\n",
    "modelg.add(BatchNormalization())\n",
    "###\n",
    "modelg.add(Dense(4, activation='softmax'))\n",
    "modelg.compile(loss='binary_crossentropy', optimizer='adam', metrics=['accuracy'])\n",
    "print(modelg.summary())\n",
    "modelg.fit(x_train, y_train, epochs=2, batch_size=64)\n",
    "modelg.save('gru.h5')"
   ]
  },
  {
   "cell_type": "code",
   "execution_count": 24,
   "metadata": {},
   "outputs": [
    {
     "name": "stdout",
     "output_type": "stream",
     "text": [
      "Correct predictions: 96.0\n",
      "Total number of test examples: 153\n",
      "Accuracy of model1:  0.6274509803921569\n"
     ]
    },
    {
     "data": {
      "text/plain": [
       "<matplotlib.axes._subplots.AxesSubplot at 0x210c59ba198>"
      ]
     },
     "execution_count": 24,
     "metadata": {},
     "output_type": "execute_result"
    },
    {
     "data": {
      "image/png": "[encoded data removed]",
      "text/plain": [
       "<Figure size 432x288 with 2 Axes>"
      ]
     },
     "metadata": {},
     "output_type": "display_data"
    }
   ],
   "source": [
    "# Test model 1\n",
    "import matplotlib.pyplot as plt\n",
    "import seaborn as sns\n",
    "test_preds = modell.predict(x_test)\n",
    "test_preds = np.round(test_preds)\n",
    "correct_predictions = float(sum(test_preds == y_test)[0])\n",
    "print(\"Correct predictions:\", correct_predictions)\n",
    "print(\"Total number of test examples:\", len(y_test))\n",
    "print(\"Accuracy of model1: \", correct_predictions/float(len(y_test)))\n",
    "\n",
    "# Creating the Confusion Matrix\n",
    "from sklearn.metrics import confusion_matrix\n",
    "x_pred = modell.predict(x_test)\n",
    "x_pred = np.round(x_pred)\n",
    "x_pred = x_pred.argmax(1)\n",
    "y_test_s = y_test.argmax(1)\n",
    "cm = confusion_matrix(y_test_s, x_pred)\n",
    "# plt.matshow(cm, cmap=plt.cm.binary, interpolation='nearest')\n",
    "# plt.title('Confusion matrix - model1')\n",
    "# plt.colorbar()\n",
    "# plt.ylabel('expected label')\n",
    "# plt.xlabel('predicted label')\n",
    "# plt.show()\n",
    "sns.set(font_scale=1.4)#for label size\n",
    "sns.heatmap(cm,annot=True,annot_kws={\"size\": 16},fmt='1f')# font size\n"
   ]
  },
  {
   "cell_type": "code",
   "execution_count": 25,
   "metadata": {},
   "outputs": [
    {
     "name": "stdout",
     "output_type": "stream",
     "text": [
      "Correct predictions: 101.0\n",
      "Total number of test examples: 153\n",
      "Accuracy of model2:  0.6601307189542484\n"
     ]
    },
    {
     "data": {
      "text/plain": [
       "<matplotlib.axes._subplots.AxesSubplot at 0x210c5aaaf28>"
      ]
     },
     "execution_count": 25,
     "metadata": {},
     "output_type": "execute_result"
    },
    {
     "data": {
      "image/png": "[encoded data removed]",
      "text/plain": [
       "<Figure size 432x288 with 2 Axes>"
      ]
     },
     "metadata": {},
     "output_type": "display_data"
    }
   ],
   "source": [
    "# Test model 2\n",
    "import matplotlib.pyplot as plt\n",
    "import seaborn as sns\n",
    "test_preds = modelg.predict(x_test)\n",
    "test_preds = np.round(test_preds)\n",
    "correct_predictions = float(sum(test_preds == y_test)[0])\n",
    "print(\"Correct predictions:\", correct_predictions)\n",
    "print(\"Total number of test examples:\", len(y_test))\n",
    "print(\"Accuracy of model2: \", correct_predictions/float(len(y_test)))\n",
    "\n",
    "# Creating the Confusion Matrix\n",
    "from sklearn.metrics import confusion_matrix\n",
    "x_pred = modelg.predict(x_test)\n",
    "x_pred = np.round(x_pred)\n",
    "x_pred = x_pred.argmax(1)\n",
    "y_test_s = y_test.argmax(1)\n",
    "cm = confusion_matrix(y_test_s, x_pred)\n",
    "# plt.matshow(cm, cmap=plt.cm.binary, interpolation='nearest')\n",
    "# plt.title('Confusion matrix - model1')\n",
    "# plt.colorbar()\n",
    "# plt.ylabel('expected label')\n",
    "# plt.xlabel('predicted label')\n",
    "# plt.show()\n",
    "sns.set(font_scale=1.4)#for label size\n",
    "sns.heatmap(cm,annot=True,annot_kws={\"size\": 16},fmt='f')# font size\n"
   ]
  },
  {
   "cell_type": "code",
   "execution_count": null,
   "metadata": {},
   "outputs": [],
   "source": []
  }
 ],
 "metadata": {
  "kernelspec": {
   "display_name": "Python 3",
   "language": "python",
   "name": "python3"
  },
  "language_info": {
   "codemirror_mode": {
    "name": "ipython",
    "version": 3
   },
   "file_extension": ".py",
   "mimetype": "text/x-python",
   "name": "python",
   "nbconvert_exporter": "python",
   "pygments_lexer": "ipython3",
   "version": "3.7.1"
  }
 },
 "nbformat": 4,
 "nbformat_minor": 2
}
